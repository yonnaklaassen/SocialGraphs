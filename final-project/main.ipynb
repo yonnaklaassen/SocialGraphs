{
 "cells": [
  {
   "cell_type": "markdown",
   "metadata": {},
   "source": [
    "# From Lab  to Lecture: \n",
    "\n",
    "## Analyzing the Connection Between Professors’ Research and Course Content​ 👩‍🏫\n",
    "\n",
    "**Authors**:\n",
    "- Erik Wold Riise, s194633​\n",
    "- Lukas Rasocha, s233498​\n",
    "- Zou Yong Nan Klaassen, s230351"
   ]
  },
  {
   "cell_type": "markdown",
   "metadata": {},
   "source": [
    "<center><img src=\"assets/intro.png\" width=\"1000\"  /></center>\n",
    "\n",
    "*Image Prompt: minimalistic network visualization with two nodes: one representing a professor and the other a course they teach, connected by a single edge*"
   ]
  },
  {
   "cell_type": "markdown",
   "metadata": {},
   "source": [
    "### Project Overview ✍️\n",
    "\n",
    "This project investigates the alignment between professors’ research areas and the courses they teach through the angle of network analysis and natural language processing (NLP).\n",
    "We plan to construct a bipartite graph of professors and courses, and analyze the structural and thematic patterns in teaching and research connections.\n",
    "\n",
    "The central research question steering the project is:\n",
    "_\"How well do professors’ research areas align with the content and objectives of the courses they teach, and how does this alignment vary across disciplines?\"_\n",
    "\n",
    "To complement this, we also examine:\n",
    "_\"Does the alignment between professors’ research and the courses they teach influence student satisfaction and performance (grades)?\"_\n",
    "\n",
    "Using NLP techniques, we analyze course descriptions and research topics to measure alignment, and we relate these findings to course evaluations and grades. Additionally, network analysis methods, such as community detection and centrality measures, will be applied to uncover interdisciplinary trends and the influence of professors within the academic network.\n",
    "\n",
    "By this we hope to shed light on how expertise and teaching intersect, and how does that impact educational outcomes in a broader sense."
   ]
  },
  {
   "cell_type": "markdown",
   "metadata": {},
   "source": [
    "### Imports"
   ]
  },
  {
   "cell_type": "code",
   "execution_count": 24,
   "metadata": {},
   "outputs": [],
   "source": [
    "import networkx as nx\n",
    "import matplotlib.pyplot as plt\n",
    "import numpy as np\n",
    "import pandas as pd\n",
    "import requests\n",
    "\n",
    "import os\n",
    "import json\n",
    "\n",
    "from tqdm import tqdm\n",
    "from bs4 import BeautifulSoup\n",
    "from scholia import query as scholia_query\n",
    "from SPARQLWrapper import SPARQLWrapper, JSON"
   ]
  },
  {
   "cell_type": "markdown",
   "metadata": {},
   "source": [
    "### Load Course Data"
   ]
  },
  {
   "cell_type": "code",
   "execution_count": 6,
   "metadata": {},
   "outputs": [],
   "source": [
    "file_path = 'data/course_df.csv'\n",
    "course_df = pd.read_csv(file_path)"
   ]
  },
  {
   "cell_type": "markdown",
   "metadata": {},
   "source": [
    "### DTU Orbit Scraper class + Scholia API"
   ]
  },
  {
   "cell_type": "code",
   "execution_count": 29,
   "metadata": {},
   "outputs": [],
   "source": [
    "\n",
    "class DTUOrbitScraper:\n",
    "    def __init__(self):\n",
    "        self.base_url = \"https://orbit.dtu.dk/en/persons/\"\n",
    "        self.endpoint_url = \"https://query.wikidata.org/sparql\"\n",
    "\n",
    "    def search_person(self, name):\n",
    "        \"\"\"Search for the person and get the URL to their profile.\"\"\"\n",
    "        search_url = f\"{self.base_url}?search={name.replace(' ', '+')}&isCopyPasteSearch=false\"\n",
    "        response = requests.get(search_url)\n",
    "        \n",
    "        if response.status_code != 200:\n",
    "            raise Exception(\"Failed to fetch search results\")\n",
    "        \n",
    "        soup = BeautifulSoup(response.text, \"html.parser\")\n",
    "        # Find the first profile link (assuming it's the first result)\n",
    "        profile_link = soup.find(\"h3\", class_=\"title\").find(\"a\", href=True)\n",
    "        \n",
    "        if profile_link:\n",
    "            return profile_link['href']\n",
    "        else:\n",
    "            raise Exception(\"Profile link not found\")\n",
    "\n",
    "    def get_topic_info(self, topic_url):\n",
    "        \"\"\"Scrape the description for a topic from its Wikidata page.\"\"\"\n",
    "        response = requests.get(topic_url)\n",
    "        if response.status_code != 200:\n",
    "            return \"Description not found\"\n",
    "        \n",
    "        soup = BeautifulSoup(response.text, \"html.parser\")\n",
    "        description = soup.find(\"div\", class_=\"wikibase-entitytermsview-heading-description\")\n",
    "        return description.text.strip() if description else \"Description not found\"\n",
    "\n",
    "    def get_scholia_topics(self, qs):\n",
    "        \"\"\"Get topics and scores from Scholia using SPARQL.\"\"\"\n",
    "        query = f\"\"\"PREFIX target: <http://www.wikidata.org/entity/{qs}>\n",
    "        SELECT ?score ?topic ?topicLabel\n",
    "        WITH {{\n",
    "            SELECT (SUM(?score_) AS ?score) ?topic WHERE {{\n",
    "                {{ target: wdt:P101 ?topic . BIND(20 AS ?score_) }}\n",
    "                UNION {{ SELECT (3 AS ?score_) ?topic WHERE {{ ?work wdt:P50 target: ; wdt:P921 ?topic . }} }}\n",
    "                UNION {{ SELECT (1 AS ?score_) ?topic WHERE {{ ?work wdt:P50 target: . ?citing_work wdt:P2860 ?work . ?citing_work wdt:P921 ?topic . }} }}\n",
    "            }} GROUP BY ?topic\n",
    "        }} AS %results \n",
    "        WHERE {{\n",
    "            INCLUDE %results\n",
    "            SERVICE wikibase:label {{ bd:serviceParam wikibase:language \"[AUTO_LANGUAGE],en\". }}\n",
    "        }}\n",
    "        ORDER BY DESC(?score)\n",
    "        LIMIT 200\"\"\"\n",
    "        \n",
    "        sparql = SPARQLWrapper(self.endpoint_url)\n",
    "        sparql.setQuery(query)\n",
    "        sparql.setReturnFormat(JSON)\n",
    "        results = sparql.query().convert()\n",
    "        \n",
    "        topics = [] \n",
    "\n",
    "        for result in results[\"results\"][\"bindings\"]:\n",
    "            topic_url = result[\"topic\"][\"value\"]\n",
    "            topic_label = result[\"topicLabel\"][\"value\"]\n",
    "            score = int(result[\"score\"][\"value\"])\n",
    "            #info = self.get_topic_info(topic_url)\n",
    "            #topics[topic_label] = {\"score\": score, \"info\": info}\n",
    "            topics.append({\"topic\":topic_label, \"score\": score, \"topic_url\": topic_url})\n",
    "        return topics\n",
    "\n",
    "    def get_profile_info(self, name):\n",
    "        \"\"\"Retrieve profile information given a person's name.\"\"\"\n",
    "        full_profile_url = self.search_person(name)\n",
    "        response = requests.get(full_profile_url)\n",
    "        \n",
    "        if response.status_code != 200:\n",
    "            raise Exception(\"Failed to fetch profile page\")\n",
    "        \n",
    "        soup = BeautifulSoup(response.text, \"html.parser\")\n",
    "        \n",
    "        # Extract profile information\n",
    "        profile_info = {}\n",
    "        \n",
    "        # Get Profile Description\n",
    "        profile_header = soup.find(\"h3\", string=\"Profile\")\n",
    "        profile_section = profile_header.find_next(\"p\") if profile_header else None\n",
    "        profile_info[\"Profile_desc\"] = profile_section.get_text(strip=True) if profile_section else \"None\"\n",
    "        \n",
    "        # Get Keywords\n",
    "        keywords_section = soup.find(\"div\", class_=\"keyword-group\")\n",
    "        if keywords_section:\n",
    "            keywords = [keyword.get_text(strip=True) for keyword in keywords_section.find_all(\"li\", class_=\"userdefined-keyword\")]\n",
    "            profile_info[\"Keywords\"] = keywords\n",
    "        else:\n",
    "            profile_info[\"Keywords\"] = []\n",
    "\n",
    "        # Get Fingerprint (Concepts, Thesauri, Values)\n",
    "        fingerprints = []\n",
    "        fingerprint_section = soup.find(\"div\", class_=\"person-top-concepts\")\n",
    "        if fingerprint_section:\n",
    "            fingerprint_items = fingerprint_section.find_all(\"li\", class_=\"concept-badge-large-container\")\n",
    "            for item in fingerprint_items:\n",
    "                concept = item.find(\"span\", class_=\"concept\").get_text(strip=True) if item.find(\"span\", class_=\"concept\") else \"N/A\"\n",
    "                thesauri = item.find(\"span\", class_=\"thesauri\").get_text(strip=True) if item.find(\"span\", class_=\"thesauri\") else \"N/A\"\n",
    "                value = item.find(\"span\", class_=\"value sr-only\").get_text(strip=True) if item.find(\"span\", class_=\"value sr-only\") else \"N/A\"\n",
    "                fingerprints.append({\n",
    "                    \"Concept\": concept,\n",
    "                    \"Thesauri\": thesauri,\n",
    "                    \"Value\": value\n",
    "                })\n",
    "        profile_info[\"Fingerprint\"] = fingerprints\n",
    "\n",
    "        # Extract ORCID\n",
    "        orcid_section = soup.find(\"div\", class_=\"rendering_person_personorcidrendererportal\")\n",
    "        if orcid_section:\n",
    "            orcid_link = orcid_section.find(\"a\", href=True)\n",
    "            profile_info[\"ORCID\"] = orcid_link[\"href\"] if orcid_link else \"Not found\"\n",
    "            if orcid_link:\n",
    "                orcid_id = orcid_link[\"href\"].split(\"/\")[-1]\n",
    "                profile_info[\"QS\"] = scholia_query.orcid_to_qs(orcid_id)\n",
    "                # Retrieve Scholia topics if QS exists\n",
    "                if len(profile_info[\"QS\"]) == 1:\n",
    "                    profile_info[\"scholia_topics\"] = self.get_scholia_topics(profile_info[\"QS\"][0])\n",
    "                else:\n",
    "                    profile_info[\"scholia_topics\"] = {}\n",
    "        else:\n",
    "            profile_info[\"ORCID\"] = \"Not found\"\n",
    "            profile_info[\"QS\"] = \"Not found\"\n",
    "            profile_info[\"scholia_topics\"] = {}\n",
    "\n",
    "        return profile_info"
   ]
  },
  {
   "cell_type": "markdown",
   "metadata": {},
   "source": [
    "### Scrape Professors information"
   ]
  },
  {
   "cell_type": "code",
   "execution_count": 31,
   "metadata": {},
   "outputs": [
    {
     "name": "stderr",
     "output_type": "stream",
     "text": [
      "Scraping Professors:   0%|          | 0/1063 [00:00<?, ?it/s]"
     ]
    },
    {
     "name": "stderr",
     "output_type": "stream",
     "text": [
      "Scraping Professors:  14%|█▎        | 144/1063 [03:45<26:08,  1.71s/it]"
     ]
    },
    {
     "name": "stdout",
     "output_type": "stream",
     "text": [
      "Failed to scrape data for René Sjøgren Hendriksen: HTTP Error 429: Too Many Requests\n"
     ]
    },
    {
     "name": "stderr",
     "output_type": "stream",
     "text": [
      "Scraping Professors:  37%|███▋      | 394/1063 [10:51<12:23,  1.11s/it]  "
     ]
    },
    {
     "name": "stdout",
     "output_type": "stream",
     "text": [
      "Failed to scrape data for Mette Lode Skovbo: 'NoneType' object has no attribute 'find'\n"
     ]
    },
    {
     "name": "stderr",
     "output_type": "stream",
     "text": [
      "Scraping Professors:  47%|████▋     | 501/1063 [13:46<12:37,  1.35s/it]"
     ]
    },
    {
     "name": "stdout",
     "output_type": "stream",
     "text": [
      "Failed to scrape data for Peter Bauer-Gottwein: 'NoneType' object has no attribute 'find'\n"
     ]
    },
    {
     "name": "stderr",
     "output_type": "stream",
     "text": [
      "Scraping Professors:  48%|████▊     | 506/1063 [13:55<14:54,  1.61s/it]"
     ]
    },
    {
     "name": "stdout",
     "output_type": "stream",
     "text": [
      "Failed to scrape data for Xiaodong Liang: HTTP Error 429: Too Many Requests\n"
     ]
    },
    {
     "name": "stderr",
     "output_type": "stream",
     "text": [
      "Scraping Professors:  49%|████▊     | 517/1063 [14:12<10:39,  1.17s/it]"
     ]
    },
    {
     "name": "stdout",
     "output_type": "stream",
     "text": [
      "Failed to scrape data for Jacqueline Eve Stenson: 'NoneType' object has no attribute 'find'\n"
     ]
    },
    {
     "name": "stderr",
     "output_type": "stream",
     "text": [
      "Scraping Professors:  51%|█████     | 540/1063 [14:57<13:26,  1.54s/it]"
     ]
    },
    {
     "name": "stdout",
     "output_type": "stream",
     "text": [
      "Failed to scrape data for Stig Christian Herluf S Andersen: 'NoneType' object has no attribute 'find'\n"
     ]
    },
    {
     "name": "stderr",
     "output_type": "stream",
     "text": [
      "Scraping Professors:  55%|█████▍    | 580/1063 [15:58<10:43,  1.33s/it]"
     ]
    },
    {
     "name": "stdout",
     "output_type": "stream",
     "text": [
      "Failed to scrape data for Markus Reinmöller: 'NoneType' object has no attribute 'find'\n"
     ]
    },
    {
     "name": "stderr",
     "output_type": "stream",
     "text": [
      "Scraping Professors:  59%|█████▉    | 625/1063 [17:20<11:35,  1.59s/it]"
     ]
    },
    {
     "name": "stdout",
     "output_type": "stream",
     "text": [
      "Failed to scrape data for Maria Ingeman: 'NoneType' object has no attribute 'find'\n"
     ]
    },
    {
     "name": "stderr",
     "output_type": "stream",
     "text": [
      "Scraping Professors:  59%|█████▉    | 632/1063 [17:30<07:55,  1.10s/it]"
     ]
    },
    {
     "name": "stdout",
     "output_type": "stream",
     "text": [
      "Failed to scrape data for Amelie Sina Wilde: 'NoneType' object has no attribute 'find'\n"
     ]
    },
    {
     "name": "stderr",
     "output_type": "stream",
     "text": [
      "Scraping Professors:  70%|██████▉   | 742/1063 [20:28<06:52,  1.28s/it]"
     ]
    },
    {
     "name": "stdout",
     "output_type": "stream",
     "text": [
      "Failed to scrape data for Babak Rezaei: 'NoneType' object has no attribute 'find'\n"
     ]
    },
    {
     "name": "stderr",
     "output_type": "stream",
     "text": [
      "Scraping Professors:  70%|███████   | 748/1063 [20:35<05:29,  1.05s/it]"
     ]
    },
    {
     "name": "stdout",
     "output_type": "stream",
     "text": [
      "Failed to scrape data for Jørgen Henrik Klinge Jacobsen: 'NoneType' object has no attribute 'find'\n"
     ]
    },
    {
     "name": "stderr",
     "output_type": "stream",
     "text": [
      "Scraping Professors:  73%|███████▎  | 773/1063 [21:17<06:36,  1.37s/it]"
     ]
    },
    {
     "name": "stdout",
     "output_type": "stream",
     "text": [
      "Failed to scrape data for Fengwen Wang: 'NoneType' object has no attribute 'find'\n"
     ]
    },
    {
     "name": "stderr",
     "output_type": "stream",
     "text": [
      "Scraping Professors:  73%|███████▎  | 781/1063 [21:28<04:51,  1.03s/it]"
     ]
    },
    {
     "name": "stdout",
     "output_type": "stream",
     "text": [
      "Failed to scrape data for Ida Stub Johansson: 'NoneType' object has no attribute 'find'\n"
     ]
    },
    {
     "name": "stderr",
     "output_type": "stream",
     "text": [
      "Scraping Professors:  76%|███████▋  | 813/1063 [22:24<06:38,  1.59s/it]"
     ]
    },
    {
     "name": "stdout",
     "output_type": "stream",
     "text": [
      "Failed to scrape data for Rasmus Eckholdt Andersen: 'NoneType' object has no attribute 'find'\n"
     ]
    },
    {
     "name": "stderr",
     "output_type": "stream",
     "text": [
      "Scraping Professors:  78%|███████▊  | 829/1063 [22:49<04:46,  1.22s/it]"
     ]
    },
    {
     "name": "stdout",
     "output_type": "stream",
     "text": [
      "Failed to scrape data for Brian Elmegaard: 'NoneType' object has no attribute 'find'\n"
     ]
    },
    {
     "name": "stderr",
     "output_type": "stream",
     "text": [
      "Scraping Professors:  84%|████████▍ | 896/1063 [24:45<03:54,  1.40s/it]"
     ]
    },
    {
     "name": "stdout",
     "output_type": "stream",
     "text": [
      "Failed to scrape data for Carolyn Rutherford: 'NoneType' object has no attribute 'find'\n"
     ]
    },
    {
     "name": "stderr",
     "output_type": "stream",
     "text": [
      "Scraping Professors:  88%|████████▊ | 931/1063 [25:57<04:35,  2.08s/it]"
     ]
    },
    {
     "name": "stdout",
     "output_type": "stream",
     "text": [
      "Failed to scrape data for Salla Marjukka Laasonen: 'NoneType' object has no attribute 'find'\n"
     ]
    },
    {
     "name": "stderr",
     "output_type": "stream",
     "text": [
      "Scraping Professors: 100%|██████████| 1063/1063 [29:51<00:00,  1.69s/it]"
     ]
    },
    {
     "name": "stdout",
     "output_type": "stream",
     "text": [
      "Saved all professor data to data/all_professors.json\n"
     ]
    },
    {
     "name": "stderr",
     "output_type": "stream",
     "text": [
      "\n"
     ]
    }
   ],
   "source": [
    "scraper = DTUOrbitScraper()\n",
    "\n",
    "professor_columns = [\n",
    "    \"MAIN_RESPONSIBLE_NAME\", \"CO_RESPONSIBLE_1_NAME\",\n",
    "    \"CO_RESPONSIBLE_2_NAME\", \"CO_RESPONSIBLE_3_NAME\", \"CO_RESPONSIBLE_4_NAME\"\n",
    "]\n",
    "\n",
    "# Extract unique professors from the dataset\n",
    "def extract_professors(dataframe, professor_columns):\n",
    "    professors = set()\n",
    "    for col in professor_columns:\n",
    "        professors.update(dataframe[col].dropna().unique())\n",
    "    return list(professors)\n",
    "\n",
    "\n",
    "def scrape_professor_data(professors, output_file):\n",
    "    if os.path.exists(output_file):\n",
    "        print(f\"File {output_file} already exists. Skipping scraping.\")\n",
    "        return\n",
    "\n",
    "    all_data = {}\n",
    "\n",
    "    for professor in tqdm(professors, desc=\"Scraping Professors\"):\n",
    "        if professor in all_data:\n",
    "            print(f\"Skipping {professor} as it already exists in the JSON file.\")\n",
    "            continue\n",
    "\n",
    "        try:\n",
    "            profile_info = scraper.get_profile_info(professor)\n",
    "            all_data[professor] = profile_info  # Add to dictionary\n",
    "        except Exception as e:\n",
    "            print(f\"Failed to scrape data for {professor}: {str(e)}\")\n",
    "            continue\n",
    "\n",
    "    with open(output_file, \"w\") as f:\n",
    "        json.dump(all_data, f, indent=4)\n",
    "    \n",
    "    print(f\"Saved all professor data to {output_file}\")\n",
    "\n",
    "\n",
    "output_file = \"data/all_professors.json\"\n",
    "professors = extract_professors(course_df, professor_columns)\n",
    "scrape_professor_data(professors, output_file)"
   ]
  },
  {
   "cell_type": "markdown",
   "metadata": {},
   "source": [
    "### Load Professors data"
   ]
  },
  {
   "cell_type": "code",
   "execution_count": 50,
   "metadata": {},
   "outputs": [],
   "source": [
    "with open(\"data/all_professors.json\", \"r\") as f:\n",
    "    professors_data = json.load(f)"
   ]
  },
  {
   "cell_type": "markdown",
   "metadata": {},
   "source": [
    "### Create Bipartite Graph"
   ]
  },
  {
   "cell_type": "code",
   "execution_count": 52,
   "metadata": {},
   "outputs": [
    {
     "name": "stdout",
     "output_type": "stream",
     "text": [
      "Bipartite graph created with 2767 nodes and 4802 edges.\n"
     ]
    }
   ],
   "source": [
    "B = nx.Graph()\n",
    "\n",
    "professors = extract_professors(course_df, professor_columns)\n",
    "courses = course_df[\"COURSE\"].unique()\n",
    "\n",
    "B.add_nodes_from(professors, bipartite=0, type=\"Professor\")  # Professors\n",
    "B.add_nodes_from(courses, bipartite=1, type=\"Course\")  # Courses\n",
    "\n",
    "# Add edges based on professor-course relationships\n",
    "for _, row in course_df.iterrows():\n",
    "    course = row[\"COURSE\"]\n",
    "    for col in professor_columns:\n",
    "        professor = row[col]\n",
    "        if pd.notna(professor):  \n",
    "            B.add_edge(professor, course)\n",
    "\n",
    "# Add metadata to nodes\n",
    "for professor in professors:\n",
    "    if professor in professors_data:\n",
    "        # Add professor metadata (e.g., research areas)\n",
    "        B.nodes[professor][\"Profile_desc\"] = professors_data[professor].get(\"Profile_desc\", None)\n",
    "        B.nodes[professor][\"Keywords\"] = professors_data[professor].get(\"Keywords\", [])\n",
    "        B.nodes[professor][\"Fingerprint\"] = professors_data[professor].get(\"Fingerprint\", [])\n",
    "\n",
    "for _, row in course_df.iterrows():\n",
    "    course = row[\"COURSE\"]\n",
    "    # Add course metadata (e.g., description and objectives)\n",
    "    B.nodes[course][\"COURSE_DESCRIPTION\"] = row.get(\"COURSE_DESCRIPTION\", \"\")\n",
    "    B.nodes[course][\"LEARNING_OBJECTIVES\"] = row.get(\"LEARNING_OBJECTIVES\", \"\")\n",
    "\n",
    "print(f\"Bipartite graph created with {B.number_of_nodes()} nodes and {B.number_of_edges()} edges.\")"
   ]
  },
  {
   "cell_type": "code",
   "execution_count": 55,
   "metadata": {},
   "outputs": [
    {
     "name": "stdout",
     "output_type": "stream",
     "text": [
      "{'topic': {'type': 'uri', 'value': 'http://www.wikidata.org/entity/Q197536'}, 'score': {'datatype': 'http://www.w3.org/2001/XMLSchema#integer', 'type': 'literal', 'value': '80'}, 'topicLabel': {'xml:lang': 'en', 'type': 'literal', 'value': 'deep learning'}}\n",
      "{'topic': {'type': 'uri', 'value': 'http://www.wikidata.org/entity/Q310899'}, 'score': {'datatype': 'http://www.w3.org/2001/XMLSchema#integer', 'type': 'literal', 'value': '60'}, 'topicLabel': {'xml:lang': 'en', 'type': 'literal', 'value': 'microRNA'}}\n",
      "{'topic': {'type': 'uri', 'value': 'http://www.wikidata.org/entity/Q719725'}, 'score': {'datatype': 'http://www.w3.org/2001/XMLSchema#integer', 'type': 'literal', 'value': '53'}, 'topicLabel': {'xml:lang': 'mul', 'type': 'literal', 'value': 'Saccharomyces cerevisiae'}}\n",
      "{'topic': {'type': 'uri', 'value': 'http://www.wikidata.org/entity/Q252857'}, 'score': {'datatype': 'http://www.w3.org/2001/XMLSchema#integer', 'type': 'literal', 'value': '51'}, 'topicLabel': {'xml:lang': 'en', 'type': 'literal', 'value': 'transcriptome'}}\n",
      "{'topic': {'type': 'uri', 'value': 'http://www.wikidata.org/entity/Q2539'}, 'score': {'datatype': 'http://www.w3.org/2001/XMLSchema#integer', 'type': 'literal', 'value': '45'}, 'topicLabel': {'xml:lang': 'en', 'type': 'literal', 'value': 'machine learning'}}\n",
      "{'topic': {'type': 'uri', 'value': 'http://www.wikidata.org/entity/Q128570'}, 'score': {'datatype': 'http://www.w3.org/2001/XMLSchema#integer', 'type': 'literal', 'value': '39'}, 'topicLabel': {'xml:lang': 'en', 'type': 'literal', 'value': 'bioinformatics'}}\n",
      "{'topic': {'type': 'uri', 'value': 'http://www.wikidata.org/entity/Q264118'}, 'score': {'datatype': 'http://www.w3.org/2001/XMLSchema#integer', 'type': 'literal', 'value': '36'}, 'topicLabel': {'xml:lang': 'en', 'type': 'literal', 'value': 'acute myeloid leukemia'}}\n",
      "{'topic': {'type': 'uri', 'value': 'http://www.wikidata.org/entity/Q29496'}, 'score': {'datatype': 'http://www.w3.org/2001/XMLSchema#integer', 'type': 'literal', 'value': '35'}, 'topicLabel': {'xml:lang': 'en', 'type': 'literal', 'value': 'leukemia'}}\n",
      "{'topic': {'type': 'uri', 'value': 'http://www.wikidata.org/entity/Q8513'}, 'score': {'datatype': 'http://www.w3.org/2001/XMLSchema#integer', 'type': 'literal', 'value': '33'}, 'topicLabel': {'xml:lang': 'en', 'type': 'literal', 'value': 'database'}}\n",
      "{'topic': {'type': 'uri', 'value': 'http://www.wikidata.org/entity/Q131755'}, 'score': {'datatype': 'http://www.w3.org/2001/XMLSchema#integer', 'type': 'literal', 'value': '33'}, 'topicLabel': {'xml:lang': 'en', 'type': 'literal', 'value': 'bipolar disorder'}}\n",
      "{'topic': {'type': 'uri', 'value': 'http://www.wikidata.org/entity/Q929833'}, 'score': {'datatype': 'http://www.w3.org/2001/XMLSchema#integer', 'type': 'literal', 'value': '32'}, 'topicLabel': {'xml:lang': 'en', 'type': 'literal', 'value': 'rare disease'}}\n",
      "{'topic': {'type': 'uri', 'value': 'http://www.wikidata.org/entity/Q919283'}, 'score': {'datatype': 'http://www.w3.org/2001/XMLSchema#integer', 'type': 'literal', 'value': '30'}, 'topicLabel': {'xml:lang': 'en', 'type': 'literal', 'value': 'hemopoiesis'}}\n",
      "{'topic': {'type': 'uri', 'value': 'http://www.wikidata.org/entity/Q2542347'}, 'score': {'datatype': 'http://www.w3.org/2001/XMLSchema#integer', 'type': 'literal', 'value': '27'}, 'topicLabel': {'xml:lang': 'en', 'type': 'literal', 'value': 'RNA sequencing'}}\n",
      "{'topic': {'type': 'uri', 'value': 'http://www.wikidata.org/entity/Q1259145'}, 'score': {'datatype': 'http://www.w3.org/2001/XMLSchema#integer', 'type': 'literal', 'value': '23'}, 'topicLabel': {'xml:lang': 'en', 'type': 'literal', 'value': 'independent component analysis'}}\n",
      "{'topic': {'type': 'uri', 'value': 'http://www.wikidata.org/entity/Q812535'}, 'score': {'datatype': 'http://www.w3.org/2001/XMLSchema#integer', 'type': 'literal', 'value': '21'}, 'topicLabel': {'xml:lang': 'en', 'type': 'literal', 'value': 'Bayesian inference'}}\n",
      "{'topic': {'type': 'uri', 'value': 'http://www.wikidata.org/entity/Q1496376'}, 'score': {'datatype': 'http://www.w3.org/2001/XMLSchema#integer', 'type': 'literal', 'value': '21'}, 'topicLabel': {'xml:lang': 'en', 'type': 'literal', 'value': 'Gaussian process'}}\n",
      "{'topic': {'type': 'uri', 'value': 'http://www.wikidata.org/entity/Q864574'}, 'score': {'datatype': 'http://www.w3.org/2001/XMLSchema#integer', 'type': 'literal', 'value': '21'}, 'topicLabel': {'xml:lang': 'en', 'type': 'literal', 'value': 'biomarker'}}\n",
      "{'topic': {'type': 'uri', 'value': 'http://www.wikidata.org/entity/Q1931480'}, 'score': {'datatype': 'http://www.w3.org/2001/XMLSchema#integer', 'type': 'literal', 'value': '20'}, 'topicLabel': {'xml:lang': 'en', 'type': 'literal', 'value': 'neuroinformatics'}}\n",
      "{'topic': {'type': 'uri', 'value': 'http://www.wikidata.org/entity/Q184199'}, 'score': {'datatype': 'http://www.w3.org/2001/XMLSchema#integer', 'type': 'literal', 'value': '17'}, 'topicLabel': {'xml:lang': 'en', 'type': 'literal', 'value': 'automation'}}\n",
      "{'topic': {'type': 'uri', 'value': 'http://www.wikidata.org/entity/Q22645'}, 'score': {'datatype': 'http://www.w3.org/2001/XMLSchema#integer', 'type': 'literal', 'value': '17'}, 'topicLabel': {'xml:lang': 'en', 'type': 'literal', 'value': 'smartphone'}}\n",
      "{'topic': {'type': 'uri', 'value': 'http://www.wikidata.org/entity/Q5532625'}, 'score': {'datatype': 'http://www.w3.org/2001/XMLSchema#integer', 'type': 'literal', 'value': '15'}, 'topicLabel': {'xml:lang': 'en', 'type': 'literal', 'value': 'generative model'}}\n",
      "{'topic': {'type': 'uri', 'value': 'http://www.wikidata.org/entity/Q192776'}, 'score': {'datatype': 'http://www.w3.org/2001/XMLSchema#integer', 'type': 'literal', 'value': '15'}, 'topicLabel': {'xml:lang': 'en', 'type': 'literal', 'value': 'artificial neural network'}}\n",
      "{'topic': {'type': 'uri', 'value': 'http://www.wikidata.org/entity/Q815297'}, 'score': {'datatype': 'http://www.w3.org/2001/XMLSchema#integer', 'type': 'literal', 'value': '14'}, 'topicLabel': {'xml:lang': 'en', 'type': 'literal', 'value': 'systems biology'}}\n",
      "{'topic': {'type': 'uri', 'value': 'http://www.wikidata.org/entity/Q282142'}, 'score': {'datatype': 'http://www.w3.org/2001/XMLSchema#integer', 'type': 'literal', 'value': '14'}, 'topicLabel': {'xml:lang': 'en', 'type': 'literal', 'value': 'glioblastoma'}}\n",
      "{'topic': {'type': 'uri', 'value': 'http://www.wikidata.org/entity/Q192572'}, 'score': {'datatype': 'http://www.w3.org/2001/XMLSchema#integer', 'type': 'literal', 'value': '14'}, 'topicLabel': {'xml:lang': 'en', 'type': 'literal', 'value': 'in silico'}}\n",
      "{'topic': {'type': 'uri', 'value': 'http://www.wikidata.org/entity/Q97311562'}, 'score': {'datatype': 'http://www.w3.org/2001/XMLSchema#integer', 'type': 'literal', 'value': '13'}, 'topicLabel': {'xml:lang': 'en', 'type': 'literal', 'value': 'variational auto-encoder'}}\n",
      "{'topic': {'type': 'uri', 'value': 'http://www.wikidata.org/entity/Q60681249'}, 'score': {'datatype': 'http://www.w3.org/2001/XMLSchema#integer', 'type': 'literal', 'value': '12'}, 'topicLabel': {'xml:lang': 'en', 'type': 'literal', 'value': 'microRNA expression'}}\n",
      "{'topic': {'type': 'uri', 'value': 'http://www.wikidata.org/entity/Q177005'}, 'score': {'datatype': 'http://www.w3.org/2001/XMLSchema#integer', 'type': 'literal', 'value': '12'}, 'topicLabel': {'xml:lang': 'en', 'type': 'literal', 'value': 'computational biology'}}\n",
      "{'topic': {'type': 'uri', 'value': 'http://www.wikidata.org/entity/Q179965'}, 'score': {'datatype': 'http://www.w3.org/2001/XMLSchema#integer', 'type': 'literal', 'value': '12'}, 'topicLabel': {'xml:lang': 'en', 'type': 'literal', 'value': 'electroencephalography'}}\n",
      "{'topic': {'type': 'uri', 'value': 'http://www.wikidata.org/entity/Q82069695'}, 'score': {'datatype': 'http://www.w3.org/2001/XMLSchema#integer', 'type': 'literal', 'value': '12'}, 'topicLabel': {'xml:lang': 'mul', 'type': 'literal', 'value': 'SARS-CoV-2'}}\n",
      "{'topic': {'type': 'uri', 'value': 'http://www.wikidata.org/entity/Q28946449'}, 'score': {'datatype': 'http://www.w3.org/2001/XMLSchema#integer', 'type': 'literal', 'value': '11'}, 'topicLabel': {'xml:lang': 'en', 'type': 'literal', 'value': 'transcriptomics'}}\n",
      "{'topic': {'type': 'uri', 'value': 'http://www.wikidata.org/entity/Q312154'}, 'score': {'datatype': 'http://www.w3.org/2001/XMLSchema#integer', 'type': 'literal', 'value': '11'}, 'topicLabel': {'xml:lang': 'en', 'type': 'literal', 'value': 'Drosophila'}}\n",
      "{'topic': {'type': 'uri', 'value': 'http://www.wikidata.org/entity/Q172491'}, 'score': {'datatype': 'http://www.w3.org/2001/XMLSchema#integer', 'type': 'literal', 'value': '11'}, 'topicLabel': {'xml:lang': 'en', 'type': 'literal', 'value': 'data mining'}}\n",
      "{'topic': {'type': 'uri', 'value': 'http://www.wikidata.org/entity/Q1457734'}, 'score': {'datatype': 'http://www.w3.org/2001/XMLSchema#integer', 'type': 'literal', 'value': '10'}, 'topicLabel': {'xml:lang': 'en', 'type': 'literal', 'value': 'recurrent neural network'}}\n",
      "{'topic': {'type': 'uri', 'value': 'http://www.wikidata.org/entity/Q17084460'}, 'score': {'datatype': 'http://www.w3.org/2001/XMLSchema#integer', 'type': 'literal', 'value': '10'}, 'topicLabel': {'xml:lang': 'en', 'type': 'literal', 'value': 'convolutional neural network'}}\n",
      "{'topic': {'type': 'uri', 'value': 'http://www.wikidata.org/entity/Q184204'}, 'score': {'datatype': 'http://www.w3.org/2001/XMLSchema#integer', 'type': 'literal', 'value': '9'}, 'topicLabel': {'xml:lang': 'en', 'type': 'literal', 'value': 'macrophage'}}\n",
      "{'topic': {'type': 'uri', 'value': 'http://www.wikidata.org/entity/Q288322'}, 'score': {'datatype': 'http://www.w3.org/2001/XMLSchema#integer', 'type': 'literal', 'value': '9'}, 'topicLabel': {'xml:lang': 'en', 'type': 'literal', 'value': 'autophagy'}}\n",
      "{'topic': {'type': 'uri', 'value': 'http://www.wikidata.org/entity/Q222046'}, 'score': {'datatype': 'http://www.w3.org/2001/XMLSchema#integer', 'type': 'literal', 'value': '9'}, 'topicLabel': {'xml:lang': 'en', 'type': 'literal', 'value': 'genomics'}}\n",
      "{'topic': {'type': 'uri', 'value': 'http://www.wikidata.org/entity/Q7141'}, 'score': {'datatype': 'http://www.w3.org/2001/XMLSchema#integer', 'type': 'literal', 'value': '9'}, 'topicLabel': {'xml:lang': 'en', 'type': 'literal', 'value': 'cell biology'}}\n",
      "{'topic': {'type': 'uri', 'value': 'http://www.wikidata.org/entity/Q68168612'}, 'score': {'datatype': 'http://www.w3.org/2001/XMLSchema#integer', 'type': 'literal', 'value': '9'}, 'topicLabel': {'xml:lang': 'en', 'type': 'literal', 'value': 'RNA-Seq'}}\n",
      "{'topic': {'type': 'uri', 'value': 'http://www.wikidata.org/entity/Q12483'}, 'score': {'datatype': 'http://www.w3.org/2001/XMLSchema#integer', 'type': 'literal', 'value': '9'}, 'topicLabel': {'xml:lang': 'en', 'type': 'literal', 'value': 'statistics'}}\n",
      "{'topic': {'type': 'uri', 'value': 'http://www.wikidata.org/entity/Q1427096'}, 'score': {'datatype': 'http://www.w3.org/2001/XMLSchema#integer', 'type': 'literal', 'value': '9'}, 'topicLabel': {'xml:lang': 'en', 'type': 'literal', 'value': 'immunotherapy'}}\n",
      "{'topic': {'type': 'uri', 'value': 'http://www.wikidata.org/entity/Q330268'}, 'score': {'datatype': 'http://www.w3.org/2001/XMLSchema#integer', 'type': 'literal', 'value': '8'}, 'topicLabel': {'xml:lang': 'en', 'type': 'literal', 'value': 'decision support system'}}\n",
      "{'topic': {'type': 'uri', 'value': 'http://www.wikidata.org/entity/Q105688'}, 'score': {'datatype': 'http://www.w3.org/2001/XMLSchema#integer', 'type': 'literal', 'value': '8'}, 'topicLabel': {'xml:lang': 'en', 'type': 'literal', 'value': 'hypoxia'}}\n",
      "{'topic': {'type': 'uri', 'value': 'http://www.wikidata.org/entity/Q411114'}, 'score': {'datatype': 'http://www.w3.org/2001/XMLSchema#integer', 'type': 'literal', 'value': '8'}, 'topicLabel': {'xml:lang': 'en', 'type': 'literal', 'value': 'NF-κB'}}\n",
      "{'topic': {'type': 'uri', 'value': 'http://www.wikidata.org/entity/Q258914'}, 'score': {'datatype': 'http://www.w3.org/2001/XMLSchema#integer', 'type': 'literal', 'value': '8'}, 'topicLabel': {'xml:lang': 'en', 'type': 'literal', 'value': 'ice core'}}\n",
      "{'topic': {'type': 'uri', 'value': 'http://www.wikidata.org/entity/Q1275153'}, 'score': {'datatype': 'http://www.w3.org/2001/XMLSchema#integer', 'type': 'literal', 'value': '8'}, 'topicLabel': {'xml:lang': 'en', 'type': 'literal', 'value': 'expectation–maximization algorithm'}}\n",
      "{'topic': {'type': 'uri', 'value': 'http://www.wikidata.org/entity/Q35869'}, 'score': {'datatype': 'http://www.w3.org/2001/XMLSchema#integer', 'type': 'literal', 'value': '8'}, 'topicLabel': {'xml:lang': 'en', 'type': 'literal', 'value': 'asthma'}}\n",
      "{'topic': {'type': 'uri', 'value': 'http://www.wikidata.org/entity/Q7108'}, 'score': {'datatype': 'http://www.w3.org/2001/XMLSchema#integer', 'type': 'literal', 'value': '8'}, 'topicLabel': {'xml:lang': 'en', 'type': 'literal', 'value': 'biotechnology'}}\n",
      "{'topic': {'type': 'uri', 'value': 'http://www.wikidata.org/entity/Q242736'}, 'score': {'datatype': 'http://www.w3.org/2001/XMLSchema#integer', 'type': 'literal', 'value': '7'}, 'topicLabel': {'xml:lang': 'en', 'type': 'literal', 'value': 'phosphorylation'}}\n",
      "{'topic': {'type': 'uri', 'value': 'http://www.wikidata.org/entity/Q181257'}, 'score': {'datatype': 'http://www.w3.org/2001/XMLSchema#integer', 'type': 'literal', 'value': '7'}, 'topicLabel': {'xml:lang': 'en', 'type': 'literal', 'value': 'prostate cancer'}}\n",
      "{'topic': {'type': 'uri', 'value': 'http://www.wikidata.org/entity/Q158695'}, 'score': {'datatype': 'http://www.w3.org/2001/XMLSchema#integer', 'type': 'literal', 'value': '7'}, 'topicLabel': {'xml:lang': 'en', 'type': 'literal', 'value': 'Arabidopsis thaliana'}}\n",
      "{'topic': {'type': 'uri', 'value': 'http://www.wikidata.org/entity/Q874745'}, 'score': {'datatype': 'http://www.w3.org/2001/XMLSchema#integer', 'type': 'literal', 'value': '7'}, 'topicLabel': {'xml:lang': 'en', 'type': 'literal', 'value': 'DNA methylation'}}\n",
      "{'topic': {'type': 'uri', 'value': 'http://www.wikidata.org/entity/Q2068526'}, 'score': {'datatype': 'http://www.w3.org/2001/XMLSchema#integer', 'type': 'literal', 'value': '7'}, 'topicLabel': {'xml:lang': 'en', 'type': 'literal', 'value': 'whole genome sequencing'}}\n",
      "{'topic': {'type': 'uri', 'value': 'http://www.wikidata.org/entity/Q413299'}, 'score': {'datatype': 'http://www.w3.org/2001/XMLSchema#integer', 'type': 'literal', 'value': '7'}, 'topicLabel': {'xml:lang': 'en', 'type': 'literal', 'value': 'bevacizumab'}}\n",
      "{'topic': {'type': 'uri', 'value': 'http://www.wikidata.org/entity/Q4874481'}, 'score': {'datatype': 'http://www.w3.org/2001/XMLSchema#integer', 'type': 'literal', 'value': '7'}, 'topicLabel': {'xml:lang': 'en', 'type': 'literal', 'value': 'Bayesian statistics'}}\n",
      "{'topic': {'type': 'uri', 'value': 'http://www.wikidata.org/entity/Q25113024'}, 'score': {'datatype': 'http://www.w3.org/2001/XMLSchema#integer', 'type': 'literal', 'value': '7'}, 'topicLabel': {'xml:lang': 'en', 'type': 'literal', 'value': 'Spike-and-slab variable selection'}}\n",
      "{'topic': {'type': 'uri', 'value': 'http://www.wikidata.org/entity/Q202833'}, 'score': {'datatype': 'http://www.w3.org/2001/XMLSchema#integer', 'type': 'literal', 'value': '7'}, 'topicLabel': {'xml:lang': 'en', 'type': 'literal', 'value': 'social media'}}\n",
      "{'topic': {'type': 'uri', 'value': 'http://www.wikidata.org/entity/Q6027324'}, 'score': {'datatype': 'http://www.w3.org/2001/XMLSchema#integer', 'type': 'literal', 'value': '7'}, 'topicLabel': {'xml:lang': 'en', 'type': 'literal', 'value': 'transfer learning'}}\n",
      "{'topic': {'type': 'uri', 'value': 'http://www.wikidata.org/entity/Q30642'}, 'score': {'datatype': 'http://www.w3.org/2001/XMLSchema#integer', 'type': 'literal', 'value': '7'}, 'topicLabel': {'xml:lang': 'en', 'type': 'literal', 'value': 'natural language processing'}}\n",
      "{'topic': {'type': 'uri', 'value': 'http://www.wikidata.org/entity/Q1504425'}, 'score': {'datatype': 'http://www.w3.org/2001/XMLSchema#integer', 'type': 'literal', 'value': '7'}, 'topicLabel': {'xml:lang': 'en', 'type': 'literal', 'value': 'systematic review'}}\n",
      "{'topic': {'type': 'uri', 'value': 'http://www.wikidata.org/entity/Q84263196'}, 'score': {'datatype': 'http://www.w3.org/2001/XMLSchema#integer', 'type': 'literal', 'value': '7'}, 'topicLabel': {'xml:lang': 'mul', 'type': 'literal', 'value': 'COVID-19'}}\n",
      "{'topic': {'type': 'uri', 'value': 'http://www.wikidata.org/entity/Q4422623'}, 'score': {'datatype': 'http://www.w3.org/2001/XMLSchema#integer', 'type': 'literal', 'value': '7'}, 'topicLabel': {'xml:lang': 'en', 'type': 'literal', 'value': 'latent variable'}}\n",
      "{'topic': {'type': 'uri', 'value': 'http://www.wikidata.org/entity/Q128581'}, 'score': {'datatype': 'http://www.w3.org/2001/XMLSchema#integer', 'type': 'literal', 'value': '6'}, 'topicLabel': {'xml:lang': 'en', 'type': 'literal', 'value': 'breast cancer'}}\n",
      "{'topic': {'type': 'uri', 'value': 'http://www.wikidata.org/entity/Q210861'}, 'score': {'datatype': 'http://www.w3.org/2001/XMLSchema#integer', 'type': 'literal', 'value': '6'}, 'topicLabel': {'xml:lang': 'en', 'type': 'literal', 'value': 'cell differentiation'}}\n",
      "{'topic': {'type': 'uri', 'value': 'http://www.wikidata.org/entity/Q101929'}, 'score': {'datatype': 'http://www.w3.org/2001/XMLSchema#integer', 'type': 'literal', 'value': '6'}, 'topicLabel': {'xml:lang': 'en', 'type': 'literal', 'value': 'immunology'}}\n",
      "{'topic': {'type': 'uri', 'value': 'http://www.wikidata.org/entity/Q2292945'}, 'score': {'datatype': 'http://www.w3.org/2001/XMLSchema#integer', 'type': 'literal', 'value': '6'}, 'topicLabel': {'xml:lang': 'en', 'type': 'literal', 'value': 'papillary thyroid cancer'}}\n",
      "{'topic': {'type': 'uri', 'value': 'http://www.wikidata.org/entity/Q19088'}, 'score': {'datatype': 'http://www.w3.org/2001/XMLSchema#integer', 'type': 'literal', 'value': '6'}, 'topicLabel': {'xml:lang': 'en', 'type': 'literal', 'value': 'eukaryote'}}\n",
      "{'topic': {'type': 'uri', 'value': 'http://www.wikidata.org/entity/Q896177'}, 'score': {'datatype': 'http://www.w3.org/2001/XMLSchema#integer', 'type': 'literal', 'value': '6'}, 'topicLabel': {'xml:lang': 'en', 'type': 'literal', 'value': 'protein-protein interaction'}}\n",
      "{'topic': {'type': 'uri', 'value': 'http://www.wikidata.org/entity/Q101991'}, 'score': {'datatype': 'http://www.w3.org/2001/XMLSchema#integer', 'type': 'literal', 'value': '6'}, 'topicLabel': {'xml:lang': 'en', 'type': 'literal', 'value': 'inflammation'}}\n",
      "{'topic': {'type': 'uri', 'value': 'http://www.wikidata.org/entity/Q1093165'}, 'score': {'datatype': 'http://www.w3.org/2001/XMLSchema#integer', 'type': 'literal', 'value': '6'}, 'topicLabel': {'xml:lang': 'en', 'type': 'literal', 'value': 'cis-regulatory element'}}\n",
      "{'topic': {'type': 'uri', 'value': 'http://www.wikidata.org/entity/Q5420835'}, 'score': {'datatype': 'http://www.w3.org/2001/XMLSchema#integer', 'type': 'literal', 'value': '6'}, 'topicLabel': {'xml:lang': 'en', 'type': 'literal', 'value': 'expectation propagation'}}\n",
      "{'topic': {'type': 'uri', 'value': 'http://www.wikidata.org/entity/Q10843505'}, 'score': {'datatype': 'http://www.w3.org/2001/XMLSchema#integer', 'type': 'literal', 'value': '6'}, 'topicLabel': {'xml:lang': 'en', 'type': 'literal', 'value': 'non-negative matrix factorization'}}\n",
      "{'topic': {'type': 'uri', 'value': 'http://www.wikidata.org/entity/Q2148123'}, 'score': {'datatype': 'http://www.w3.org/2001/XMLSchema#integer', 'type': 'literal', 'value': '6'}, 'topicLabel': {'xml:lang': 'en', 'type': 'literal', 'value': 'rhinosinusitis'}}\n",
      "{'topic': {'type': 'uri', 'value': 'http://www.wikidata.org/entity/Q21014462'}, 'score': {'datatype': 'http://www.w3.org/2001/XMLSchema#integer', 'type': 'literal', 'value': '6'}, 'topicLabel': {'xml:lang': 'en', 'type': 'literal', 'value': 'cell line'}}\n",
      "{'topic': {'type': 'uri', 'value': 'http://www.wikidata.org/entity/Q140014'}, 'score': {'datatype': 'http://www.w3.org/2001/XMLSchema#integer', 'type': 'literal', 'value': '6'}, 'topicLabel': {'xml:lang': 'mul', 'type': 'literal', 'value': 'Enterococcus faecalis'}}\n",
      "{'topic': {'type': 'uri', 'value': 'http://www.wikidata.org/entity/Q111908491'}, 'score': {'datatype': 'http://www.w3.org/2001/XMLSchema#integer', 'type': 'literal', 'value': '6'}, 'topicLabel': {'xml:lang': 'en', 'type': 'literal', 'value': 'study protocol'}}\n",
      "{'topic': {'type': 'uri', 'value': 'http://www.wikidata.org/entity/Q8054'}, 'score': {'datatype': 'http://www.w3.org/2001/XMLSchema#integer', 'type': 'literal', 'value': '6'}, 'topicLabel': {'xml:lang': 'en', 'type': 'literal', 'value': 'protein'}}\n",
      "{'topic': {'type': 'uri', 'value': 'http://www.wikidata.org/entity/Q87719492'}, 'score': {'datatype': 'http://www.w3.org/2001/XMLSchema#integer', 'type': 'literal', 'value': '6'}, 'topicLabel': {'xml:lang': 'en', 'type': 'literal', 'value': 'COVID-19 vaccine'}}\n",
      "{'topic': {'type': 'uri', 'value': 'http://www.wikidata.org/entity/Q580689'}, 'score': {'datatype': 'http://www.w3.org/2001/XMLSchema#integer', 'type': 'literal', 'value': '6'}, 'topicLabel': {'xml:lang': 'en', 'type': 'literal', 'value': 'bioengineering'}}\n",
      "{'topic': {'type': 'uri', 'value': 'http://www.wikidata.org/entity/Q411391'}, 'score': {'datatype': 'http://www.w3.org/2001/XMLSchema#integer', 'type': 'literal', 'value': '5'}, 'topicLabel': {'xml:lang': 'en', 'type': 'literal', 'value': 'regulation of gene expression'}}\n",
      "{'topic': {'type': 'uri', 'value': 'http://www.wikidata.org/entity/Q189092'}, 'score': {'datatype': 'http://www.w3.org/2001/XMLSchema#integer', 'type': 'literal', 'value': '5'}, 'topicLabel': {'xml:lang': 'en', 'type': 'literal', 'value': 'cell migration'}}\n",
      "{'topic': {'type': 'uri', 'value': 'http://www.wikidata.org/entity/Q1473931'}, 'score': {'datatype': 'http://www.w3.org/2001/XMLSchema#integer', 'type': 'literal', 'value': '5'}, 'topicLabel': {'xml:lang': 'en', 'type': 'literal', 'value': 'keratinocyte'}}\n",
      "{'topic': {'type': 'uri', 'value': 'http://www.wikidata.org/entity/Q134219'}, 'score': {'datatype': 'http://www.w3.org/2001/XMLSchema#integer', 'type': 'literal', 'value': '5'}, 'topicLabel': {'xml:lang': 'en', 'type': 'literal', 'value': 'polysaccharide'}}\n",
      "{'topic': {'type': 'uri', 'value': 'http://www.wikidata.org/entity/Q2263094'}, 'score': {'datatype': 'http://www.w3.org/2001/XMLSchema#integer', 'type': 'literal', 'value': '5'}, 'topicLabel': {'xml:lang': 'en', 'type': 'literal', 'value': 'metabolic network'}}\n",
      "{'topic': {'type': 'uri', 'value': 'http://www.wikidata.org/entity/Q189159'}, 'score': {'datatype': 'http://www.w3.org/2001/XMLSchema#integer', 'type': 'literal', 'value': '5'}, 'topicLabel': {'xml:lang': 'en', 'type': 'literal', 'value': 'cell growth'}}\n",
      "{'topic': {'type': 'uri', 'value': 'http://www.wikidata.org/entity/Q1172284'}, 'score': {'datatype': 'http://www.w3.org/2001/XMLSchema#integer', 'type': 'literal', 'value': '5'}, 'topicLabel': {'xml:lang': 'en', 'type': 'literal', 'value': 'data set'}}\n",
      "{'topic': {'type': 'uri', 'value': 'http://www.wikidata.org/entity/Q1098876'}, 'score': {'datatype': 'http://www.w3.org/2001/XMLSchema#integer', 'type': 'literal', 'value': '5'}, 'topicLabel': {'xml:lang': 'en', 'type': 'literal', 'value': 'genome-wide association study'}}\n",
      "{'topic': {'type': 'uri', 'value': 'http://www.wikidata.org/entity/Q3025883'}, 'score': {'datatype': 'http://www.w3.org/2001/XMLSchema#integer', 'type': 'literal', 'value': '5'}, 'topicLabel': {'xml:lang': 'en', 'type': 'literal', 'value': 'type 2 diabetes'}}\n",
      "{'topic': {'type': 'uri', 'value': 'http://www.wikidata.org/entity/Q17042943'}, 'score': {'datatype': 'http://www.w3.org/2001/XMLSchema#integer', 'type': 'literal', 'value': '5'}, 'topicLabel': {'xml:lang': 'en', 'type': 'literal', 'value': 'secretome'}}\n",
      "{'topic': {'type': 'uri', 'value': 'http://www.wikidata.org/entity/Q91703'}, 'score': {'datatype': 'http://www.w3.org/2001/XMLSchema#integer', 'type': 'literal', 'value': '5'}, 'topicLabel': {'xml:lang': 'en', 'type': 'literal', 'value': 'Caenorhabditis elegans'}}\n",
      "{'topic': {'type': 'uri', 'value': 'http://www.wikidata.org/entity/Q171184'}, 'score': {'datatype': 'http://www.w3.org/2001/XMLSchema#integer', 'type': 'literal', 'value': '5'}, 'topicLabel': {'xml:lang': 'en', 'type': 'literal', 'value': 'phylogenetics'}}\n",
      "{'topic': {'type': 'uri', 'value': 'http://www.wikidata.org/entity/Q742736'}, 'score': {'datatype': 'http://www.w3.org/2001/XMLSchema#integer', 'type': 'literal', 'value': '5'}, 'topicLabel': {'xml:lang': 'en', 'type': 'literal', 'value': 'bias'}}\n",
      "{'topic': {'type': 'uri', 'value': 'http://www.wikidata.org/entity/Q451553'}, 'score': {'datatype': 'http://www.w3.org/2001/XMLSchema#integer', 'type': 'literal', 'value': '5'}, 'topicLabel': {'xml:lang': 'en', 'type': 'literal', 'value': 'visualization'}}\n",
      "{'topic': {'type': 'uri', 'value': 'http://www.wikidata.org/entity/Q55779961'}, 'score': {'datatype': 'http://www.w3.org/2001/XMLSchema#integer', 'type': 'literal', 'value': '5'}, 'topicLabel': {'xml:lang': 'en', 'type': 'literal', 'value': 'chronic rhinosinusitis'}}\n",
      "{'topic': {'type': 'uri', 'value': 'http://www.wikidata.org/entity/Q51289900'}, 'score': {'datatype': 'http://www.w3.org/2001/XMLSchema#integer', 'type': 'literal', 'value': '5'}, 'topicLabel': {'xml:lang': 'en', 'type': 'literal', 'value': 'deep neural network'}}\n",
      "{'topic': {'type': 'uri', 'value': 'http://www.wikidata.org/entity/Q16644043'}, 'score': {'datatype': 'http://www.w3.org/2001/XMLSchema#integer', 'type': 'literal', 'value': '5'}, 'topicLabel': {'xml:lang': 'en', 'type': 'literal', 'value': 'diagnosis'}}\n",
      "{'topic': {'type': 'uri', 'value': 'http://www.wikidata.org/entity/Q471857'}, 'score': {'datatype': 'http://www.w3.org/2001/XMLSchema#integer', 'type': 'literal', 'value': '4'}, 'topicLabel': {'xml:lang': 'en', 'type': 'literal', 'value': 'proteomics'}}\n",
      "{'topic': {'type': 'uri', 'value': 'http://www.wikidata.org/entity/Q1068690'}, 'score': {'datatype': 'http://www.w3.org/2001/XMLSchema#integer', 'type': 'literal', 'value': '4'}, 'topicLabel': {'xml:lang': 'en', 'type': 'literal', 'value': 'functional genomics'}}\n",
      "{'topic': {'type': 'uri', 'value': 'http://www.wikidata.org/entity/Q7202'}, 'score': {'datatype': 'http://www.w3.org/2001/XMLSchema#integer', 'type': 'literal', 'value': '4'}, 'topicLabel': {'xml:lang': 'en', 'type': 'literal', 'value': 'molecular biology'}}\n",
      "{'topic': {'type': 'uri', 'value': 'http://www.wikidata.org/entity/Q11081'}, 'score': {'datatype': 'http://www.w3.org/2001/XMLSchema#integer', 'type': 'literal', 'value': '4'}, 'topicLabel': {'xml:lang': 'en', 'type': 'literal', 'value': \"Alzheimer's disease\"}}\n",
      "{'topic': {'type': 'uri', 'value': 'http://www.wikidata.org/entity/Q412563'}, 'score': {'datatype': 'http://www.w3.org/2001/XMLSchema#integer', 'type': 'literal', 'value': '4'}, 'topicLabel': {'xml:lang': 'en', 'type': 'literal', 'value': 'CRISPR'}}\n",
      "{'topic': {'type': 'uri', 'value': 'http://www.wikidata.org/entity/Q417841'}, 'score': {'datatype': 'http://www.w3.org/2001/XMLSchema#integer', 'type': 'literal', 'value': '4'}, 'topicLabel': {'xml:lang': 'en', 'type': 'literal', 'value': 'protein family'}}\n",
      "{'topic': {'type': 'uri', 'value': 'http://www.wikidata.org/entity/Q407384'}, 'score': {'datatype': 'http://www.w3.org/2001/XMLSchema#integer', 'type': 'literal', 'value': '4'}, 'topicLabel': {'xml:lang': 'en', 'type': 'literal', 'value': 'transcription factor'}}\n",
      "{'topic': {'type': 'uri', 'value': 'http://www.wikidata.org/entity/Q69461345'}, 'score': {'datatype': 'http://www.w3.org/2001/XMLSchema#integer', 'type': 'literal', 'value': '4'}, 'topicLabel': {'xml:lang': 'en', 'type': 'literal', 'value': 'human papillomavirus 16'}}\n",
      "{'topic': {'type': 'uri', 'value': 'http://www.wikidata.org/entity/Q69999790'}, 'score': {'datatype': 'http://www.w3.org/2001/XMLSchema#integer', 'type': 'literal', 'value': '4'}, 'topicLabel': {'xml:lang': 'en', 'type': 'literal', 'value': 'human papilloma virus'}}\n",
      "{'topic': {'type': 'uri', 'value': 'http://www.wikidata.org/entity/Q18557172'}, 'score': {'datatype': 'http://www.w3.org/2001/XMLSchema#integer', 'type': 'literal', 'value': '4'}, 'topicLabel': {'xml:lang': 'en', 'type': 'literal', 'value': 'follicular adenoma'}}\n",
      "{'topic': {'type': 'uri', 'value': 'http://www.wikidata.org/entity/Q5464665'}, 'score': {'datatype': 'http://www.w3.org/2001/XMLSchema#integer', 'type': 'literal', 'value': '4'}, 'topicLabel': {'xml:lang': 'en', 'type': 'literal', 'value': 'follicular thyroid cancer'}}\n",
      "{'topic': {'type': 'uri', 'value': 'http://www.wikidata.org/entity/Q356372'}, 'score': {'datatype': 'http://www.w3.org/2001/XMLSchema#integer', 'type': 'literal', 'value': '4'}, 'topicLabel': {'xml:lang': 'en', 'type': 'literal', 'value': 'uveal melanoma'}}\n",
      "{'topic': {'type': 'uri', 'value': 'http://www.wikidata.org/entity/Q317309'}, 'score': {'datatype': 'http://www.w3.org/2001/XMLSchema#integer', 'type': 'literal', 'value': '4'}, 'topicLabel': {'xml:lang': 'en', 'type': 'literal', 'value': 'mental health'}}\n",
      "{'topic': {'type': 'uri', 'value': 'http://www.wikidata.org/entity/Q188638'}, 'score': {'datatype': 'http://www.w3.org/2001/XMLSchema#integer', 'type': 'literal', 'value': '4'}, 'topicLabel': {'xml:lang': 'en', 'type': 'literal', 'value': 'mood disorder'}}\n",
      "{'topic': {'type': 'uri', 'value': 'http://www.wikidata.org/entity/Q45422'}, 'score': {'datatype': 'http://www.w3.org/2001/XMLSchema#integer', 'type': 'literal', 'value': '4'}, 'topicLabel': {'xml:lang': 'en', 'type': 'literal', 'value': 'yeast'}}\n",
      "{'topic': {'type': 'uri', 'value': 'http://www.wikidata.org/entity/Q132014'}, 'score': {'datatype': 'http://www.w3.org/2001/XMLSchema#integer', 'type': 'literal', 'value': '4'}, 'topicLabel': {'xml:lang': 'mul', 'type': 'literal', 'value': 'Aspergillus niger'}}\n",
      "{'topic': {'type': 'uri', 'value': 'http://www.wikidata.org/entity/Q372016'}, 'score': {'datatype': 'http://www.w3.org/2001/XMLSchema#integer', 'type': 'literal', 'value': '4'}, 'topicLabel': {'xml:lang': 'en', 'type': 'literal', 'value': 'pathogenesis'}}\n",
      "{'topic': {'type': 'uri', 'value': 'http://www.wikidata.org/entity/Q61643320'}, 'score': {'datatype': 'http://www.w3.org/2001/XMLSchema#integer', 'type': 'literal', 'value': '4'}, 'topicLabel': {'xml:lang': 'en', 'type': 'literal', 'value': 'overexpression'}}\n",
      "{'topic': {'type': 'uri', 'value': 'http://www.wikidata.org/entity/Q112147935'}, 'score': {'datatype': 'http://www.w3.org/2001/XMLSchema#integer', 'type': 'literal', 'value': '4'}, 'topicLabel': {'xml:lang': 'en', 'type': 'literal', 'value': 'high-throughput sequencing'}}\n",
      "{'topic': {'type': 'uri', 'value': 'http://www.wikidata.org/entity/Q357519'}, 'score': {'datatype': 'http://www.w3.org/2001/XMLSchema#integer', 'type': 'literal', 'value': '4'}, 'topicLabel': {'xml:lang': 'en', 'type': 'literal', 'value': 'adipocyte'}}\n",
      "{'topic': {'type': 'uri', 'value': 'http://www.wikidata.org/entity/Q177900'}, 'score': {'datatype': 'http://www.w3.org/2001/XMLSchema#integer', 'type': 'literal', 'value': '4'}, 'topicLabel': {'xml:lang': 'en', 'type': 'literal', 'value': 'transcription'}}\n",
      "{'topic': {'type': 'uri', 'value': 'http://www.wikidata.org/entity/Q424361'}, 'score': {'datatype': 'http://www.w3.org/2001/XMLSchema#integer', 'type': 'literal', 'value': '4'}, 'topicLabel': {'xml:lang': 'en', 'type': 'literal', 'value': 'reactive oxygen species'}}\n",
      "{'topic': {'type': 'uri', 'value': 'http://www.wikidata.org/entity/Q25419'}, 'score': {'datatype': 'http://www.w3.org/2001/XMLSchema#integer', 'type': 'literal', 'value': '4'}, 'topicLabel': {'xml:lang': 'mul', 'type': 'literal', 'value': 'Escherichia coli'}}\n",
      "{'topic': {'type': 'uri', 'value': 'http://www.wikidata.org/entity/Q95588220'}, 'score': {'datatype': 'http://www.w3.org/2001/XMLSchema#integer', 'type': 'literal', 'value': '4'}, 'topicLabel': {'xml:lang': 'en', 'type': 'literal', 'value': 'RNA analysis'}}\n",
      "{'topic': {'type': 'uri', 'value': 'http://www.wikidata.org/entity/Q1147112'}, 'score': {'datatype': 'http://www.w3.org/2001/XMLSchema#integer', 'type': 'literal', 'value': '4'}, 'topicLabel': {'xml:lang': 'en', 'type': 'literal', 'value': 'comparative genomics'}}\n",
      "{'topic': {'type': 'uri', 'value': 'http://www.wikidata.org/entity/Q1988917'}, 'score': {'datatype': 'http://www.w3.org/2001/XMLSchema#integer', 'type': 'literal', 'value': '4'}, 'topicLabel': {'xml:lang': 'en', 'type': 'literal', 'value': 'data analysis'}}\n",
      "{'topic': {'type': 'uri', 'value': 'http://www.wikidata.org/entity/Q11288'}, 'score': {'datatype': 'http://www.w3.org/2001/XMLSchema#integer', 'type': 'literal', 'value': '4'}, 'topicLabel': {'xml:lang': 'en', 'type': 'literal', 'value': 'web server'}}\n",
      "{'topic': {'type': 'uri', 'value': 'http://www.wikidata.org/entity/Q181600'}, 'score': {'datatype': 'http://www.w3.org/2001/XMLSchema#integer', 'type': 'literal', 'value': '4'}, 'topicLabel': {'xml:lang': 'en', 'type': 'literal', 'value': 'patient'}}\n",
      "{'topic': {'type': 'uri', 'value': 'http://www.wikidata.org/entity/Q1662562'}, 'score': {'datatype': 'http://www.w3.org/2001/XMLSchema#integer', 'type': 'literal', 'value': '4'}, 'topicLabel': {'xml:lang': 'en', 'type': 'literal', 'value': 'information extraction'}}\n",
      "{'topic': {'type': 'uri', 'value': 'http://www.wikidata.org/entity/Q626011'}, 'score': {'datatype': 'http://www.w3.org/2001/XMLSchema#integer', 'type': 'literal', 'value': '4'}, 'topicLabel': {'xml:lang': 'en', 'type': 'literal', 'value': 'mean field theory'}}\n",
      "{'topic': {'type': 'uri', 'value': 'http://www.wikidata.org/entity/Q1152135'}, 'score': {'datatype': 'http://www.w3.org/2001/XMLSchema#integer', 'type': 'literal', 'value': '4'}, 'topicLabel': {'xml:lang': 'en', 'type': 'literal', 'value': 'unsupervised learning'}}\n",
      "{'topic': {'type': 'uri', 'value': 'http://www.wikidata.org/entity/Q593744'}, 'score': {'datatype': 'http://www.w3.org/2001/XMLSchema#integer', 'type': 'literal', 'value': '4'}, 'topicLabel': {'xml:lang': 'en', 'type': 'literal', 'value': 'knowledge base'}}\n",
      "{'topic': {'type': 'uri', 'value': 'http://www.wikidata.org/entity/Q1671685'}, 'score': {'datatype': 'http://www.w3.org/2001/XMLSchema#integer', 'type': 'literal', 'value': '4'}, 'topicLabel': {'xml:lang': 'en', 'type': 'literal', 'value': 'invasive ductal carcinoma'}}\n",
      "{'topic': {'type': 'uri', 'value': 'http://www.wikidata.org/entity/Q1952580'}, 'score': {'datatype': 'http://www.w3.org/2001/XMLSchema#integer', 'type': 'literal', 'value': '4'}, 'topicLabel': {'xml:lang': 'en', 'type': 'literal', 'value': 'multivariate statistics'}}\n",
      "{'topic': {'type': 'uri', 'value': 'http://www.wikidata.org/entity/Q104053'}, 'score': {'datatype': 'http://www.w3.org/2001/XMLSchema#integer', 'type': 'literal', 'value': '4'}, 'topicLabel': {'xml:lang': 'en', 'type': 'literal', 'value': 'phenotype'}}\n",
      "{'topic': {'type': 'uri', 'value': 'http://www.wikidata.org/entity/Q903809'}, 'score': {'datatype': 'http://www.w3.org/2001/XMLSchema#integer', 'type': 'literal', 'value': '4'}, 'topicLabel': {'xml:lang': 'en', 'type': 'literal', 'value': 'functional magnetic resonance imaging'}}\n",
      "{'topic': {'type': 'uri', 'value': 'http://www.wikidata.org/entity/Q4182287'}, 'score': {'datatype': 'http://www.w3.org/2001/XMLSchema#integer', 'type': 'literal', 'value': '4'}, 'topicLabel': {'xml:lang': 'en', 'type': 'literal', 'value': 'search engine'}}\n",
      "{'topic': {'type': 'uri', 'value': 'http://www.wikidata.org/entity/Q24700947'}, 'score': {'datatype': 'http://www.w3.org/2001/XMLSchema#integer', 'type': 'literal', 'value': '4'}, 'topicLabel': {'xml:lang': 'en', 'type': 'literal', 'value': 'JASPAR'}}\n",
      "{'topic': {'type': 'uri', 'value': 'http://www.wikidata.org/entity/Q309901'}, 'score': {'datatype': 'http://www.w3.org/2001/XMLSchema#integer', 'type': 'literal', 'value': '4'}, 'topicLabel': {'xml:lang': 'en', 'type': 'literal', 'value': 'open data'}}\n",
      "{'topic': {'type': 'uri', 'value': 'http://www.wikidata.org/entity/Q786435'}, 'score': {'datatype': 'http://www.w3.org/2001/XMLSchema#integer', 'type': 'literal', 'value': '4'}, 'topicLabel': {'xml:lang': 'en', 'type': 'literal', 'value': 'autoencoder'}}\n",
      "{'topic': {'type': 'uri', 'value': 'http://www.wikidata.org/entity/Q81068910'}, 'score': {'datatype': 'http://www.w3.org/2001/XMLSchema#integer', 'type': 'literal', 'value': '4'}, 'topicLabel': {'xml:lang': 'en', 'type': 'literal', 'value': 'COVID-19 pandemic'}}\n",
      "{'topic': {'type': 'uri', 'value': 'http://www.wikidata.org/entity/Q27652812'}, 'score': {'datatype': 'http://www.w3.org/2001/XMLSchema#integer', 'type': 'literal', 'value': '3'}, 'topicLabel': {'xml:lang': 'en', 'type': 'literal', 'value': 'species nova'}}\n",
      "{'topic': {'type': 'uri', 'value': 'http://www.wikidata.org/entity/Q188121'}, 'score': {'datatype': 'http://www.w3.org/2001/XMLSchema#integer', 'type': 'literal', 'value': '3'}, 'topicLabel': {'xml:lang': 'mul', 'type': 'literal', 'value': 'Staphylococcus aureus'}}\n",
      "{'topic': {'type': 'uri', 'value': 'http://www.wikidata.org/entity/Q21097485'}, 'score': {'datatype': 'http://www.w3.org/2001/XMLSchema#integer', 'type': 'literal', 'value': '3'}, 'topicLabel': {'xml:lang': 'en', 'type': 'literal', 'value': 'extracellular vesicle'}}\n",
      "{'topic': {'type': 'uri', 'value': 'http://www.wikidata.org/entity/Q903778'}, 'score': {'datatype': 'http://www.w3.org/2001/XMLSchema#integer', 'type': 'literal', 'value': '3'}, 'topicLabel': {'xml:lang': 'en', 'type': 'literal', 'value': 'metagenomics'}}\n",
      "{'topic': {'type': 'uri', 'value': 'http://www.wikidata.org/entity/Q18409577'}, 'score': {'datatype': 'http://www.w3.org/2001/XMLSchema#integer', 'type': 'literal', 'value': '3'}, 'topicLabel': {'xml:lang': 'en', 'type': 'literal', 'value': 'single-cell RNA-seq'}}\n",
      "{'topic': {'type': 'uri', 'value': 'http://www.wikidata.org/entity/Q66648976'}, 'score': {'datatype': 'http://www.w3.org/2001/XMLSchema#integer', 'type': 'literal', 'value': '3'}, 'topicLabel': {'xml:lang': 'en', 'type': 'literal', 'value': 'biomedical investigative technique'}}\n",
      "{'topic': {'type': 'uri', 'value': 'http://www.wikidata.org/entity/Q1425625'}, 'score': {'datatype': 'http://www.w3.org/2001/XMLSchema#integer', 'type': 'literal', 'value': '3'}, 'topicLabel': {'xml:lang': 'en', 'type': 'literal', 'value': 'reproducibility'}}\n",
      "{'topic': {'type': 'uri', 'value': 'http://www.wikidata.org/entity/Q148697'}, 'score': {'datatype': 'http://www.w3.org/2001/XMLSchema#integer', 'type': 'literal', 'value': '3'}, 'topicLabel': {'xml:lang': 'mul', 'type': 'literal', 'value': 'Pichia pastoris'}}\n",
      "{'topic': {'type': 'uri', 'value': 'http://www.wikidata.org/entity/Q101116078'}, 'score': {'datatype': 'http://www.w3.org/2001/XMLSchema#integer', 'type': 'literal', 'value': '3'}, 'topicLabel': {'xml:lang': 'en', 'type': 'literal', 'value': 'scoping review'}}\n",
      "{'topic': {'type': 'uri', 'value': 'http://www.wikidata.org/entity/Q14864672'}, 'score': {'datatype': 'http://www.w3.org/2001/XMLSchema#integer', 'type': 'literal', 'value': '3'}, 'topicLabel': {'xml:lang': 'en', 'type': 'literal', 'value': 'stem cell differentiation'}}\n",
      "{'topic': {'type': 'uri', 'value': 'http://www.wikidata.org/entity/Q356033'}, 'score': {'datatype': 'http://www.w3.org/2001/XMLSchema#integer', 'type': 'literal', 'value': '3'}, 'topicLabel': {'xml:lang': 'en', 'type': 'literal', 'value': 'adenocarcinoma'}}\n",
      "{'topic': {'type': 'uri', 'value': 'http://www.wikidata.org/entity/Q7843332'}, 'score': {'datatype': 'http://www.w3.org/2001/XMLSchema#integer', 'type': 'literal', 'value': '3'}, 'topicLabel': {'xml:lang': 'en', 'type': 'literal', 'value': 'triple-negative breast cancer'}}\n",
      "{'topic': {'type': 'uri', 'value': 'http://www.wikidata.org/entity/Q1216998'}, 'score': {'datatype': 'http://www.w3.org/2001/XMLSchema#integer', 'type': 'literal', 'value': '3'}, 'topicLabel': {'xml:lang': 'en', 'type': 'literal', 'value': 'neoplasm'}}\n",
      "{'topic': {'type': 'uri', 'value': 'http://www.wikidata.org/entity/Q17310682'}, 'score': {'datatype': 'http://www.w3.org/2001/XMLSchema#integer', 'type': 'literal', 'value': '3'}, 'topicLabel': {'xml:lang': 'en', 'type': 'literal', 'value': 'CRISPR-Cas method'}}\n",
      "{'topic': {'type': 'uri', 'value': 'http://www.wikidata.org/entity/Q16965677'}, 'score': {'datatype': 'http://www.w3.org/2001/XMLSchema#integer', 'type': 'literal', 'value': '3'}, 'topicLabel': {'xml:lang': 'en', 'type': 'literal', 'value': 'Cas9'}}\n",
      "{'topic': {'type': 'uri', 'value': 'http://www.wikidata.org/entity/Q627335'}, 'score': {'datatype': 'http://www.w3.org/2001/XMLSchema#integer', 'type': 'literal', 'value': '3'}, 'topicLabel': {'xml:lang': 'en', 'type': 'literal', 'value': 'workflow'}}\n",
      "{'topic': {'type': 'uri', 'value': 'http://www.wikidata.org/entity/Q7868'}, 'score': {'datatype': 'http://www.w3.org/2001/XMLSchema#integer', 'type': 'literal', 'value': '3'}, 'topicLabel': {'xml:lang': 'en', 'type': 'literal', 'value': 'cell'}}\n",
      "{'topic': {'type': 'uri', 'value': 'http://www.wikidata.org/entity/Q729735'}, 'score': {'datatype': 'http://www.w3.org/2001/XMLSchema#integer', 'type': 'literal', 'value': '3'}, 'topicLabel': {'xml:lang': 'en', 'type': 'literal', 'value': 'chronic myeloid leukemia'}}\n",
      "{'topic': {'type': 'uri', 'value': 'http://www.wikidata.org/entity/Q8047'}, 'score': {'datatype': 'http://www.w3.org/2001/XMLSchema#integer', 'type': 'literal', 'value': '3'}, 'topicLabel': {'xml:lang': 'en', 'type': 'literal', 'value': 'enzyme'}}\n",
      "{'topic': {'type': 'uri', 'value': 'http://www.wikidata.org/entity/Q1638475'}, 'score': {'datatype': 'http://www.w3.org/2001/XMLSchema#integer', 'type': 'literal', 'value': '3'}, 'topicLabel': {'xml:lang': 'en', 'type': 'literal', 'value': 'neoplastic stem cells'}}\n",
      "{'topic': {'type': 'uri', 'value': 'http://www.wikidata.org/entity/Q112543306'}, 'score': {'datatype': 'http://www.w3.org/2001/XMLSchema#integer', 'type': 'literal', 'value': '3'}, 'topicLabel': {'xml:lang': 'en', 'type': 'literal', 'value': 'microRNA profiling'}}\n",
      "{'topic': {'type': 'uri', 'value': 'http://www.wikidata.org/entity/Q858810'}, 'score': {'datatype': 'http://www.w3.org/2001/XMLSchema#integer', 'type': 'literal', 'value': '3'}, 'topicLabel': {'xml:lang': 'en', 'type': 'literal', 'value': 'big data'}}\n",
      "{'topic': {'type': 'uri', 'value': 'http://www.wikidata.org/entity/Q208163'}, 'score': {'datatype': 'http://www.w3.org/2001/XMLSchema#integer', 'type': 'literal', 'value': '3'}, 'topicLabel': {'xml:lang': 'en', 'type': 'literal', 'value': 'signal processing'}}\n",
      "{'topic': {'type': 'uri', 'value': 'http://www.wikidata.org/entity/Q18123741'}, 'score': {'datatype': 'http://www.w3.org/2001/XMLSchema#integer', 'type': 'literal', 'value': '3'}, 'topicLabel': {'xml:lang': 'en', 'type': 'literal', 'value': 'infectious disease'}}\n",
      "{'topic': {'type': 'uri', 'value': 'http://www.wikidata.org/entity/Q828130'}, 'score': {'datatype': 'http://www.w3.org/2001/XMLSchema#integer', 'type': 'literal', 'value': '3'}, 'topicLabel': {'xml:lang': 'en', 'type': 'literal', 'value': 'signal transduction'}}\n",
      "{'topic': {'type': 'uri', 'value': 'http://www.wikidata.org/entity/Q79927'}, 'score': {'datatype': 'http://www.w3.org/2001/XMLSchema#integer', 'type': 'literal', 'value': '3'}, 'topicLabel': {'xml:lang': 'en', 'type': 'literal', 'value': 'endoplasmic reticulum'}}\n",
      "{'topic': {'type': 'uri', 'value': 'http://www.wikidata.org/entity/Q124059385'}, 'score': {'datatype': 'http://www.w3.org/2001/XMLSchema#integer', 'type': 'literal', 'value': '3'}, 'topicLabel': {'xml:lang': 'en', 'type': 'literal', 'value': 'heterozygosity'}}\n",
      "{'topic': {'type': 'uri', 'value': 'http://www.wikidata.org/entity/Q130888'}, 'score': {'datatype': 'http://www.w3.org/2001/XMLSchema#integer', 'type': 'literal', 'value': '3'}, 'topicLabel': {'xml:lang': 'en', 'type': 'literal', 'value': 'Drosophila melanogaster'}}\n",
      "{'topic': {'type': 'uri', 'value': 'http://www.wikidata.org/entity/Q501128'}, 'score': {'datatype': 'http://www.w3.org/2001/XMLSchema#integer', 'type': 'literal', 'value': '3'}, 'topicLabel': {'xml:lang': 'en', 'type': 'literal', 'value': 'single-nucleotide polymorphism'}}\n",
      "{'topic': {'type': 'uri', 'value': 'http://www.wikidata.org/entity/Q175621'}, 'score': {'datatype': 'http://www.w3.org/2001/XMLSchema#integer', 'type': 'literal', 'value': '3'}, 'topicLabel': {'xml:lang': 'en', 'type': 'literal', 'value': 'vitamin D'}}\n",
      "{'topic': {'type': 'uri', 'value': 'http://www.wikidata.org/entity/Q191989'}, 'score': {'datatype': 'http://www.w3.org/2001/XMLSchema#integer', 'type': 'literal', 'value': '3'}, 'topicLabel': {'xml:lang': 'en', 'type': 'literal', 'value': 'mast cell'}}\n",
      "{'topic': {'type': 'uri', 'value': 'http://www.wikidata.org/entity/Q12252367'}, 'score': {'datatype': 'http://www.w3.org/2001/XMLSchema#integer', 'type': 'literal', 'value': '3'}, 'topicLabel': {'xml:lang': 'en', 'type': 'literal', 'value': 'atherosclerosis'}}\n",
      "{'topic': {'type': 'uri', 'value': 'http://www.wikidata.org/entity/Q277954'}, 'score': {'datatype': 'http://www.w3.org/2001/XMLSchema#integer', 'type': 'literal', 'value': '3'}, 'topicLabel': {'xml:lang': 'en', 'type': 'literal', 'value': 'estrogen'}}\n",
      "{'topic': {'type': 'uri', 'value': 'http://www.wikidata.org/entity/Q212961'}, 'score': {'datatype': 'http://www.w3.org/2001/XMLSchema#integer', 'type': 'literal', 'value': '3'}, 'topicLabel': {'xml:lang': 'en', 'type': 'literal', 'value': 'pancreatic cancer'}}\n",
      "{'topic': {'type': 'uri', 'value': 'http://www.wikidata.org/entity/Q12149006'}, 'score': {'datatype': 'http://www.w3.org/2001/XMLSchema#integer', 'type': 'literal', 'value': '3'}, 'topicLabel': {'xml:lang': 'en', 'type': 'literal', 'value': 'metabolomics'}}\n",
      "{'topic': {'type': 'uri', 'value': 'http://www.wikidata.org/entity/Q2383867'}, 'score': {'datatype': 'http://www.w3.org/2001/XMLSchema#integer', 'type': 'literal', 'value': '3'}, 'topicLabel': {'xml:lang': 'en', 'type': 'literal', 'value': 'cell death'}}\n",
      "{'topic': {'type': 'uri', 'value': 'http://www.wikidata.org/entity/Q423042'}, 'score': {'datatype': 'http://www.w3.org/2001/XMLSchema#integer', 'type': 'literal', 'value': '3'}, 'topicLabel': {'xml:lang': 'en', 'type': 'literal', 'value': 'membrane protein'}}\n",
      "{'topic': {'type': 'uri', 'value': 'http://www.wikidata.org/entity/Q3024956'}, 'score': {'datatype': 'http://www.w3.org/2001/XMLSchema#integer', 'type': 'literal', 'value': '3'}, 'topicLabel': {'xml:lang': 'en', 'type': 'literal', 'value': 'Nicotiana benthamiana'}}\n",
      "{'topic': {'type': 'uri', 'value': 'http://www.wikidata.org/entity/Q1975869'}, 'score': {'datatype': 'http://www.w3.org/2001/XMLSchema#integer', 'type': 'literal', 'value': '3'}, 'topicLabel': {'xml:lang': 'mul', 'type': 'literal', 'value': 'Lactobacillus gasseri'}}\n",
      "{'topic': {'type': 'uri', 'value': 'http://www.wikidata.org/entity/Q131003'}, 'score': {'datatype': 'http://www.w3.org/2001/XMLSchema#integer', 'type': 'literal', 'value': '3'}, 'topicLabel': {'xml:lang': 'mul', 'type': 'literal', 'value': 'Toxoplasma gondii'}}\n",
      "{'topic': {'type': 'uri', 'value': 'http://www.wikidata.org/entity/Q38404'}, 'score': {'datatype': 'http://www.w3.org/2001/XMLSchema#integer', 'type': 'literal', 'value': '3'}, 'topicLabel': {'xml:lang': 'en', 'type': 'literal', 'value': 'autism'}}\n",
      "{'topic': {'type': 'uri', 'value': 'http://www.wikidata.org/entity/Q111140'}, 'score': {'datatype': 'http://www.w3.org/2001/XMLSchema#integer', 'type': 'literal', 'value': '3'}, 'topicLabel': {'xml:lang': 'en', 'type': 'literal', 'value': 'endothelium'}}\n",
      "{'topic': {'type': 'uri', 'value': 'http://www.wikidata.org/entity/Q25493920'}, 'score': {'datatype': 'http://www.w3.org/2001/XMLSchema#integer', 'type': 'literal', 'value': '3'}, 'topicLabel': {'xml:lang': 'en', 'type': 'literal', 'value': 'colorectal carcinoma'}}\n",
      "{'topic': {'type': 'uri', 'value': 'http://www.wikidata.org/entity/Q188874'}, 'score': {'datatype': 'http://www.w3.org/2001/XMLSchema#integer', 'type': 'literal', 'value': '3'}, 'topicLabel': {'xml:lang': 'en', 'type': 'literal', 'value': 'colorectal cancer'}}\n",
      "{'topic': {'type': 'uri', 'value': 'http://www.wikidata.org/entity/Q908902'}, 'score': {'datatype': 'http://www.w3.org/2001/XMLSchema#integer', 'type': 'literal', 'value': '3'}, 'topicLabel': {'xml:lang': 'en', 'type': 'literal', 'value': 'structural biology'}}\n",
      "{'topic': {'type': 'uri', 'value': 'http://www.wikidata.org/entity/Q56375555'}, 'score': {'datatype': 'http://www.w3.org/2001/XMLSchema#integer', 'type': 'literal', 'value': '3'}, 'topicLabel': {'xml:lang': 'en', 'type': 'literal', 'value': 'statistical modelling'}}\n",
      "{'topic': {'type': 'uri', 'value': 'http://www.wikidata.org/entity/Q2583685'}, 'score': {'datatype': 'http://www.w3.org/2001/XMLSchema#integer', 'type': 'literal', 'value': '3'}, 'topicLabel': {'xml:lang': 'en', 'type': 'literal', 'value': 'propulsion'}}\n",
      "{'topic': {'type': 'uri', 'value': 'http://www.wikidata.org/entity/Q1138951'}, 'score': {'datatype': 'http://www.w3.org/2001/XMLSchema#integer', 'type': 'literal', 'value': '3'}, 'topicLabel': {'xml:lang': 'en', 'type': 'literal', 'value': 'cognitive neuroscience'}}\n",
      "{'topic': {'type': 'uri', 'value': 'http://www.wikidata.org/entity/Q3511065'}, 'score': {'datatype': 'http://www.w3.org/2001/XMLSchema#integer', 'type': 'literal', 'value': '3'}, 'topicLabel': {'xml:lang': 'en', 'type': 'literal', 'value': 'biological sequence'}}\n",
      "{'topic': {'type': 'uri', 'value': 'http://www.wikidata.org/entity/Q85914626'}, 'score': {'datatype': 'http://www.w3.org/2001/XMLSchema#integer', 'type': 'literal', 'value': '3'}, 'topicLabel': {'xml:lang': 'en', 'type': 'literal', 'value': 'consensus algorithm'}}\n",
      "{'topic': {'type': 'uri', 'value': 'http://www.wikidata.org/entity/Q1361088'}, 'score': {'datatype': 'http://www.w3.org/2001/XMLSchema#integer', 'type': 'literal', 'value': '3'}, 'topicLabel': {'xml:lang': 'en', 'type': 'literal', 'value': 'matrix decomposition'}}\n",
      "{'topic': {'type': 'uri', 'value': 'http://www.wikidata.org/entity/Q899656'}, 'score': {'datatype': 'http://www.w3.org/2001/XMLSchema#integer', 'type': 'literal', 'value': '3'}, 'topicLabel': {'xml:lang': 'en', 'type': 'literal', 'value': 'protein structure prediction'}}\n",
      "{'topic': {'type': 'uri', 'value': 'http://www.wikidata.org/entity/Q1806885'}, 'score': {'datatype': 'http://www.w3.org/2001/XMLSchema#integer', 'type': 'literal', 'value': '3'}, 'topicLabel': {'xml:lang': 'en', 'type': 'literal', 'value': 'latent variable model'}}\n",
      "{'topic': {'type': 'uri', 'value': 'http://www.wikidata.org/entity/Q541014'}, 'score': {'datatype': 'http://www.w3.org/2001/XMLSchema#integer', 'type': 'literal', 'value': '3'}, 'topicLabel': {'xml:lang': 'en', 'type': 'literal', 'value': 'cross-validation'}}\n",
      "{'topic': {'type': 'uri', 'value': 'http://www.wikidata.org/entity/Q190581'}, 'score': {'datatype': 'http://www.w3.org/2001/XMLSchema#integer', 'type': 'literal', 'value': '3'}, 'topicLabel': {'xml:lang': 'en', 'type': 'literal', 'value': 'invoice'}}\n",
      "{'topic': {'type': 'uri', 'value': 'http://www.wikidata.org/entity/Q96468792'}, 'score': {'datatype': 'http://www.w3.org/2001/XMLSchema#integer', 'type': 'literal', 'value': '3'}, 'topicLabel': {'xml:lang': 'en', 'type': 'literal', 'value': 'Topic modeling'}}\n",
      "{'topic': {'type': 'uri', 'value': 'http://www.wikidata.org/entity/Q3532085'}, 'score': {'datatype': 'http://www.w3.org/2001/XMLSchema#integer', 'type': 'literal', 'value': '3'}, 'topicLabel': {'xml:lang': 'en', 'type': 'literal', 'value': 'topic model'}}\n",
      "{'topic': {'type': 'uri', 'value': 'http://www.wikidata.org/entity/Q5439682'}, 'score': {'datatype': 'http://www.w3.org/2001/XMLSchema#integer', 'type': 'literal', 'value': '3'}, 'topicLabel': {'xml:lang': 'en', 'type': 'literal', 'value': 'feature hashing'}}\n",
      "{'topic': {'type': 'uri', 'value': 'http://www.wikidata.org/entity/Q980509'}, 'score': {'datatype': 'http://www.w3.org/2001/XMLSchema#integer', 'type': 'literal', 'value': '3'}, 'topicLabel': {'xml:lang': 'en', 'type': 'literal', 'value': 'embedding'}}\n",
      "{'topic': {'type': 'uri', 'value': 'http://www.wikidata.org/entity/Q8055111'}, 'score': {'datatype': 'http://www.w3.org/2001/XMLSchema#integer', 'type': 'literal', 'value': '3'}, 'topicLabel': {'xml:lang': 'en', 'type': 'literal', 'value': 'nasal polyps'}}\n",
      "{'topic': {'type': 'uri', 'value': 'http://www.wikidata.org/entity/Q5205747'}, 'score': {'datatype': 'http://www.w3.org/2001/XMLSchema#integer', 'type': 'literal', 'value': '3'}, 'topicLabel': {'xml:lang': 'en', 'type': 'literal', 'value': 'DNA damage'}}\n",
      "{'topic': {'type': 'uri', 'value': 'http://www.wikidata.org/entity/Q42844'}, 'score': {'datatype': 'http://www.w3.org/2001/XMLSchema#integer', 'type': 'literal', 'value': '3'}, 'topicLabel': {'xml:lang': 'en', 'type': 'literal', 'value': 'major depressive disorder'}}\n"
     ]
    }
   ],
   "source": [
    "# pip install sparqlwrapper\n",
    "# https://rdflib.github.io/sparqlwrapper/\n",
    "\n",
    "import sys\n",
    "from SPARQLWrapper import SPARQLWrapper, JSON\n",
    "\n",
    "endpoint_url = \"https://query.wikidata.org/sparql\"\n",
    "\n",
    "query = \"\"\"# tool: scholia\n",
    "#defaultView:BubbleChart\n",
    "PREFIX target: <http://www.wikidata.org/entity/Q24290415>\n",
    "\n",
    "SELECT ?score ?topic ?topicLabel\n",
    "WITH {\n",
    "  SELECT\n",
    "    (SUM(?score_) AS ?score)\n",
    "    ?topic\n",
    "  WHERE {\n",
    "    { \n",
    "      target: wdt:P101 ?topic .\n",
    "      BIND(20 AS ?score_)\n",
    "    }\n",
    "    UNION\n",
    "    {\n",
    "      SELECT (3 AS ?score_) ?topic WHERE {\n",
    "        ?work wdt:P50 target: ;\n",
    "              wdt:P921 ?topic . \n",
    "      }\n",
    "    }\n",
    "    UNION\n",
    "    {\n",
    "      SELECT (1 AS ?score_) ?topic WHERE {\n",
    "        ?work wdt:P50 target: .\n",
    "        ?citing_work wdt:P2860 ?work .\n",
    "        ?citing_work wdt:P921 ?topic . \n",
    "      }\n",
    "    }\n",
    "  }\n",
    "  GROUP BY ?topic\n",
    "} AS %results \n",
    "WHERE {\n",
    "  INCLUDE %results\n",
    "  SERVICE wikibase:label { bd:serviceParam wikibase:language \"[AUTO_LANGUAGE],mul,en,da,de,es,jp,no,ru,sv,zh\". }\n",
    "}\n",
    "ORDER BY DESC(?score)\n",
    "LIMIT 200\"\"\"\n",
    "\n",
    "\n",
    "def get_results(endpoint_url, query):\n",
    "    user_agent = \"WDQS-example Python/%s.%s\" % (sys.version_info[0], sys.version_info[1])\n",
    "    # TODO adjust user agent; see https://w.wiki/CX6\n",
    "    sparql = SPARQLWrapper(endpoint_url, agent=user_agent)\n",
    "    sparql.setQuery(query)\n",
    "    sparql.setReturnFormat(JSON)\n",
    "    return sparql.query().convert()\n",
    "\n",
    "\n",
    "results = get_results(endpoint_url, query)\n",
    "\n",
    "for result in results[\"results\"][\"bindings\"]:\n",
    "    print(result)\n"
   ]
  },
  {
   "cell_type": "code",
   "execution_count": null,
   "metadata": {},
   "outputs": [],
   "source": []
  }
 ],
 "metadata": {
  "kernelspec": {
   "display_name": "scholia",
   "language": "python",
   "name": "python3"
  },
  "language_info": {
   "codemirror_mode": {
    "name": "ipython",
    "version": 3
   },
   "file_extension": ".py",
   "mimetype": "text/x-python",
   "name": "python",
   "nbconvert_exporter": "python",
   "pygments_lexer": "ipython3",
   "version": "3.9.20"
  }
 },
 "nbformat": 4,
 "nbformat_minor": 2
}
